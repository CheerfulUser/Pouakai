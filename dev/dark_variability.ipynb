{
 "cells": [
  {
   "cell_type": "code",
   "execution_count": null,
   "metadata": {},
   "outputs": [],
   "source": []
  }
 ],
 "metadata": {
  "kernelspec": {
   "display_name": "Python 3.9.5 ('base')",
   "language": "python",
   "name": "python3"
  },
  "language_info": {
   "name": "python",
   "version": "3.9.5"
  },
  "orig_nbformat": 4,
  "vscode": {
   "interpreter": {
    "hash": "65df850b09dbb346217dcccd55713e2ba433bdb23090b07a0c14f2d111564d6b"
   }
  }
 },
 "nbformat": 4,
 "nbformat_minor": 2
}
