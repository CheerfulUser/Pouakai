{
 "cells": [
  {
   "cell_type": "code",
   "execution_count": 6,
   "metadata": {},
   "outputs": [],
   "source": []
  },
  {
   "cell_type": "code",
   "execution_count": 7,
   "metadata": {},
   "outputs": [],
   "source": [
    "from cuber import *\n",
    "from glob import glob\n",
    "files = glob('/home/phys/astronomy/rri38/muse/*.fits')\n",
    "for i in range(len(files)):\n",
    "    test = cuber(file=files[i],run=True,numcores=10,spec_catalog='ck',psf_profile='gaussian',savepath='/home/phys/astronomy/rri38/muse/')"
   ]
  },
  {
   "cell_type": "code",
   "execution_count": null,
   "metadata": {},
   "outputs": [],
   "source": []
  }
 ],
 "metadata": {
  "kernelspec": {
   "display_name": "Python 3.9.15 ('base')",
   "language": "python",
   "name": "python3"
  },
  "language_info": {
   "codemirror_mode": {
    "name": "ipython",
    "version": 3
   },
   "file_extension": ".py",
   "mimetype": "text/x-python",
   "name": "python",
   "nbconvert_exporter": "python",
   "pygments_lexer": "ipython3",
   "version": "3.9.15"
  },
  "orig_nbformat": 4,
  "vscode": {
   "interpreter": {
    "hash": "65df850b09dbb346217dcccd55713e2ba433bdb23090b07a0c14f2d111564d6b"
   }
  }
 },
 "nbformat": 4,
 "nbformat_minor": 2
}
