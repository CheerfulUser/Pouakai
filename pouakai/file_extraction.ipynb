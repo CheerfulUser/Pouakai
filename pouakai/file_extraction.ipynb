{
 "cells": [
  {
   "cell_type": "code",
   "execution_count": 1,
   "metadata": {},
   "outputs": [],
   "source": [
    "import os\n",
    "import numpy as np\n",
    "from glob import glob"
   ]
  },
  {
   "cell_type": "code",
   "execution_count": 2,
   "metadata": {},
   "outputs": [],
   "source": [
    "moa_files = glob('/home/phys/astro8/MJArchive/MOA/ALERT/*SN2024-*.fit.gz')\n",
    "bc_files = glob('/home/phys/astro8/MJArchive/octans/*/*AT2024abla*')"
   ]
  },
  {
   "cell_type": "code",
   "execution_count": 3,
   "metadata": {},
   "outputs": [
    {
     "data": {
      "text/plain": [
       "['/home/phys/astro8/MJArchive/octans/20241119/AT2024abla-0001_g.fit',\n",
       " '/home/phys/astro8/MJArchive/octans/20241119/AT2024abla-0001_i.fit',\n",
       " '/home/phys/astro8/MJArchive/octans/20241119/AT2024abla-0001_r.fit',\n",
       " '/home/phys/astro8/MJArchive/octans/20241119/AT2024abla-0002_g.fit',\n",
       " '/home/phys/astro8/MJArchive/octans/20241119/AT2024abla-0002_i.fit',\n",
       " '/home/phys/astro8/MJArchive/octans/20241119/AT2024abla-0002_r.fit',\n",
       " '/home/phys/astro8/MJArchive/octans/20241119/AT2024abla-0003_g.fit',\n",
       " '/home/phys/astro8/MJArchive/octans/20241119/AT2024abla-0003_i.fit',\n",
       " '/home/phys/astro8/MJArchive/octans/20241119/AT2024abla-0003_r.fit',\n",
       " '/home/phys/astro8/MJArchive/octans/20241121/AT2024abla -0001_g.fit',\n",
       " '/home/phys/astro8/MJArchive/octans/20241121/AT2024abla -0001_i.fit',\n",
       " '/home/phys/astro8/MJArchive/octans/20241121/AT2024abla -0001_r.fit',\n",
       " '/home/phys/astro8/MJArchive/octans/20241121/AT2024abla -0002_g.fit',\n",
       " '/home/phys/astro8/MJArchive/octans/20241121/AT2024abla -0002_i.fit',\n",
       " '/home/phys/astro8/MJArchive/octans/20241121/AT2024abla -0002_r.fit',\n",
       " '/home/phys/astro8/MJArchive/octans/20241121/AT2024abla -0003_g.fit',\n",
       " '/home/phys/astro8/MJArchive/octans/20241121/AT2024abla -0003_i.fit',\n",
       " '/home/phys/astro8/MJArchive/octans/20241121/AT2024abla -0003_r.fit',\n",
       " '/home/phys/astro8/MJArchive/octans/20241121/AT2024abla-0002_g.fit',\n",
       " '/home/phys/astro8/MJArchive/octans/20241121/AT2024abla-0002_i.fit',\n",
       " '/home/phys/astro8/MJArchive/octans/20241121/AT2024abla-0002_r.fit',\n",
       " '/home/phys/astro8/MJArchive/octans/20241122/AT2024abla-0001_g.fit',\n",
       " '/home/phys/astro8/MJArchive/octans/20241122/AT2024abla-0001_i.fit',\n",
       " '/home/phys/astro8/MJArchive/octans/20241122/AT2024abla-0001_r.fit',\n",
       " '/home/phys/astro8/MJArchive/octans/20241122/AT2024abla-0002_g.fit',\n",
       " '/home/phys/astro8/MJArchive/octans/20241122/AT2024abla-0002_i.fit',\n",
       " '/home/phys/astro8/MJArchive/octans/20241122/AT2024abla-0002_r.fit',\n",
       " '/home/phys/astro8/MJArchive/octans/20241122/AT2024abla-0003_g.fit']"
      ]
     },
     "execution_count": 3,
     "metadata": {},
     "output_type": "execute_result"
    }
   ],
   "source": [
    "bc_files"
   ]
  },
  {
   "cell_type": "code",
   "execution_count": 11,
   "metadata": {},
   "outputs": [],
   "source": [
    "np.savetxt('/home/users/zgl12/bc_test.csv', bc_files, delimiter=',', fmt='%s')\n",
    "np.savetxt('/home/users/zgl12/moa_test.csv', moa_files, delimiter=',', fmt='%s')"
   ]
  },
  {
   "cell_type": "code",
   "execution_count": 1,
   "metadata": {},
   "outputs": [],
   "source": [
    "import pandas as pd"
   ]
  },
  {
   "cell_type": "code",
   "execution_count": 2,
   "metadata": {},
   "outputs": [],
   "source": [
    "df = pd.read_csv('/home/phys/astronomy/zgl12/pouakai/pouakai/cal_lists/bc_master_dark_list.csv')"
   ]
  },
  {
   "cell_type": "code",
   "execution_count": 4,
   "metadata": {},
   "outputs": [],
   "source": [
    "df['chip'] = -1"
   ]
  },
  {
   "cell_type": "code",
   "execution_count": 6,
   "metadata": {},
   "outputs": [],
   "source": [
    "df.to_csv('/home/phys/astronomy/zgl12/pouakai/pouakai/cal_lists/bc_master_dark_list.csv', index=False)"
   ]
  },
  {
   "cell_type": "code",
   "execution_count": null,
   "metadata": {},
   "outputs": [],
   "source": []
  }
 ],
 "metadata": {
  "kernelspec": {
   "display_name": "base",
   "language": "python",
   "name": "python3"
  },
  "language_info": {
   "codemirror_mode": {
    "name": "ipython",
    "version": 3
   },
   "file_extension": ".py",
   "mimetype": "text/x-python",
   "name": "python",
   "nbconvert_exporter": "python",
   "pygments_lexer": "ipython3",
   "version": "3.9.7"
  }
 },
 "nbformat": 4,
 "nbformat_minor": 2
}
